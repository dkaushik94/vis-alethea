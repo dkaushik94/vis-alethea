{
 "cells": [
  {
   "cell_type": "code",
   "execution_count": 1,
   "metadata": {
    "collapsed": true
   },
   "outputs": [],
   "source": [
    "import pandas as pd\n",
    "import csv\n",
    "import numpy as np\n",
    "import json, traceback, codecs"
   ]
  },
  {
   "cell_type": "code",
   "execution_count": 5,
   "metadata": {},
   "outputs": [],
   "source": [
    "def read_sentiments():\n",
    "    sentiments = pd.read_csv('../csv_results/q6-result.csv', encoding='utf-8')\n",
    "    print(sentiments.shape)\n",
    "    # df[['col1', 'col2', 'col3', 'col4']].groupby(['col1', 'col2']).agg(['mean', 'count'])\n",
    "    # sentiments_filtered = sentiments[['id', 'RestaurantName', 'SentimentLabels', 'ReviewRating']].groupby(['RestaurantName', 'ReviewRating']).agg(['count'])\n",
    "    # sentiments_filtered.add_suffix('_Count').reset_index()\n",
    "    sentiments_filtered = sentiments.groupby(['RestaurantName', 'ReviewRating'], as_index=False).count()\n",
    "    # sentiments_filtered = sentiments_filtered.to_frame()\n",
    "#     sentiments_filtered = sentiments_filtered.reset_index()\n",
    "    print(sentiments_filtered.columns)\n",
    "    sentiments_filtered = sentiments_filtered.nlargest(20, 'id')[['RestaurantName', 'ReviewRating', 'id']]\n",
    "    sentiments_filtered.columns = ['rest_name', 'review_rating', 'count']\n",
    "    final_dict = {}\n",
    "    for index, row in sentiments_filtered.iterrows():\n",
    "        print(row['rest_name'], row['review_rating'], row['count'])\n",
    "        final_dict[row['rest_name']] = [row['review_rating'], row['count']] # append to list\n",
    "    print(final_dict)\n",
    "    f = codecs.open('q6-d2.json', 'w', encoding = 'utf-8')\n",
    "    f.write(json.dumps(final_dict, indent = 4))\n",
    "    f.close()\n",
    "    # f = codecs.open('q6-d2.json', 'w', encoding = 'utf-8')\n",
    "    # f.write(json.dumps(sentiments_filtered, indent = 4))\n",
    "    # f.close()\n",
    "    # sentiments_json = sentiments_filtered.to_json(orient=\"split\")\n",
    "    # print(sentiments_filtered.set_index(['RestaurantName']).to_dict('index'))\n",
    "#     f = open('q6-d2.json', 'w+')\n",
    "#     f.write(sentiments_json)\n",
    "#     f.close()\n",
    "    # print(sentiments_filtered.nlargest(10, 'ReviewRating'))"
   ]
  },
  {
   "cell_type": "code",
   "execution_count": 6,
   "metadata": {},
   "outputs": [
    {
     "name": "stdout",
     "output_type": "stream",
     "text": [
      "(21861, 5)\n",
      "Index(['RestaurantName', 'ReviewRating', 'id', 'SentimentLabels',\n",
      "       'CorrectSentiment'],\n",
      "      dtype='object')\n",
      "The Gage 4 439\n",
      "Yolk 4 359\n",
      "Mercat a la Planxa 5 274\n",
      "Mercat a la Planxa 4 257\n",
      "The Gage 5 234\n",
      "Giordano's 4 211\n",
      "Yolk 5 210\n",
      "Yolk 3 160\n",
      "Giordano's 5 154\n",
      "Giordano's 3 132\n",
      "The Gage 3 128\n",
      "The Art Institute of Chicago 5 108\n",
      "Mercat a la Planxa 3 104\n",
      "Avec 5 97\n",
      "The Bongo Room 4 88\n",
      "Yolk 2 87\n",
      "Avec 4 78\n",
      "Blackbird 5 75\n",
      "Mercat a la Planxa 2 75\n",
      "Zapatista 4 71\n",
      "{'The Gage': [3, 128], 'Yolk': [2, 87], 'Mercat a la Planxa': [2, 75], \"Giordano's\": [3, 132], 'The Art Institute of Chicago': [5, 108], 'Avec': [4, 78], 'The Bongo Room': [4, 88], 'Blackbird': [5, 75], 'Zapatista': [4, 71]}\n"
     ]
    }
   ],
   "source": [
    "read_sentiments()"
   ]
  },
  {
   "cell_type": "code",
   "execution_count": null,
   "metadata": {
    "collapsed": true
   },
   "outputs": [],
   "source": []
  }
 ],
 "metadata": {
  "kernelspec": {
   "display_name": "Python 3",
   "language": "python",
   "name": "python3"
  },
  "language_info": {
   "codemirror_mode": {
    "name": "ipython",
    "version": 3
   },
   "file_extension": ".py",
   "mimetype": "text/x-python",
   "name": "python",
   "nbconvert_exporter": "python",
   "pygments_lexer": "ipython3",
   "version": "3.6.3"
  }
 },
 "nbformat": 4,
 "nbformat_minor": 2
}
