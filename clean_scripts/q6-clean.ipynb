{
 "cells": [
  {
   "cell_type": "code",
   "execution_count": 2,
   "metadata": {
    "collapsed": true
   },
   "outputs": [],
   "source": [
    "import pandas as pd\n",
    "import csv\n",
    "import numpy as np\n",
    "import json, traceback, codecs"
   ]
  },
  {
   "cell_type": "code",
   "execution_count": 7,
   "metadata": {
    "collapsed": true
   },
   "outputs": [],
   "source": [
    "def read_sentiments():\n",
    "    sentiments = pd.read_csv('../csv_results/q6-result.csv', encoding='utf-8')\n",
    "    print(sentiments.shape)\n",
    "    # df[['col1', 'col2', 'col3', 'col4']].groupby(['col1', 'col2']).agg(['mean', 'count'])\n",
    "    # sentiments_filtered = sentiments[['id', 'RestaurantName', 'SentimentLabels', 'ReviewRating']].groupby(['RestaurantName', 'ReviewRating']).agg(['count'])\n",
    "    # sentiments_filtered.add_suffix('_Count').reset_index()\n",
    "    sentiments_filtered = sentiments.groupby(['RestaurantName', 'ReviewRating'], as_index=False).count()\n",
    "    # sentiments_filtered = sentiments_filtered.to_frame()\n",
    "#     sentiments_filtered = sentiments_filtered.reset_index()\n",
    "    print(sentiments_filtered.columns)\n",
    "    sentiments_filtered = sentiments_filtered.nlargest(20, 'id')[['RestaurantName', 'ReviewRating', 'id']]\n",
    "    sentiments_filtered.columns = ['rest_name', 'review_rating', 'count']\n",
    "    final_dict = {}\n",
    "    for index, row in sentiments_filtered.iterrows():\n",
    "        print(row['rest_name'], row['review_rating'], row['count'])\n",
    "        if row['rest_name'] in final_dict:\n",
    "            final_dict[row['rest_name']].extend(row['review_rating'], row['count'])\n",
    "        else:\n",
    "            final_dict[row['rest_name']] = [row['review_rating'], row['count']] # append to list\n",
    "    print(final_dict)\n",
    "    f = codecs.open('q6-d2.json', 'w', encoding = 'utf-8')\n",
    "    f.write(json.dumps(final_dict, indent = 4))\n",
    "    f.close()\n",
    "    # f = codecs.open('q6-d2.json', 'w', encoding = 'utf-8')\n",
    "    # f.write(json.dumps(sentiments_filtered, indent = 4))\n",
    "    # f.close()\n",
    "    # sentiments_json = sentiments_filtered.to_json(orient=\"split\")\n",
    "    # print(sentiments_filtered.set_index(['RestaurantName']).to_dict('index'))\n",
    "#     f = open('q6-d2.json', 'w+')\n",
    "#     f.write(sentiments_json)\n",
    "#     f.close()\n",
    "    # print(sentiments_filtered.nlargest(10, 'ReviewRating'))"
   ]
  },
  {
   "cell_type": "code",
   "execution_count": 8,
   "metadata": {},
   "outputs": [
    {
     "name": "stdout",
     "output_type": "stream",
     "text": [
      "(21861, 5)\n",
      "Index(['RestaurantName', 'ReviewRating', 'id', 'SentimentLabels',\n",
      "       'CorrectSentiment'],\n",
      "      dtype='object')\n",
      "The Gage 4 439\n",
      "Yolk 4 359\n",
      "Mercat a la Planxa 5 274\n",
      "Mercat a la Planxa 4 257\n"
     ]
    },
    {
     "ename": "TypeError",
     "evalue": "extend() takes exactly one argument (2 given)",
     "output_type": "error",
     "traceback": [
      "\u001b[1;31m---------------------------------------------------------------------------\u001b[0m",
      "\u001b[1;31mTypeError\u001b[0m                                 Traceback (most recent call last)",
      "\u001b[1;32m<ipython-input-8-94b19e978e12>\u001b[0m in \u001b[0;36m<module>\u001b[1;34m()\u001b[0m\n\u001b[1;32m----> 1\u001b[1;33m \u001b[0mread_sentiments\u001b[0m\u001b[1;33m(\u001b[0m\u001b[1;33m)\u001b[0m\u001b[1;33m\u001b[0m\u001b[0m\n\u001b[0m",
      "\u001b[1;32m<ipython-input-7-b5ff1dfe593d>\u001b[0m in \u001b[0;36mread_sentiments\u001b[1;34m()\u001b[0m\n\u001b[0;32m     15\u001b[0m         \u001b[0mprint\u001b[0m\u001b[1;33m(\u001b[0m\u001b[0mrow\u001b[0m\u001b[1;33m[\u001b[0m\u001b[1;34m'rest_name'\u001b[0m\u001b[1;33m]\u001b[0m\u001b[1;33m,\u001b[0m \u001b[0mrow\u001b[0m\u001b[1;33m[\u001b[0m\u001b[1;34m'review_rating'\u001b[0m\u001b[1;33m]\u001b[0m\u001b[1;33m,\u001b[0m \u001b[0mrow\u001b[0m\u001b[1;33m[\u001b[0m\u001b[1;34m'count'\u001b[0m\u001b[1;33m]\u001b[0m\u001b[1;33m)\u001b[0m\u001b[1;33m\u001b[0m\u001b[0m\n\u001b[0;32m     16\u001b[0m         \u001b[1;32mif\u001b[0m \u001b[0mrow\u001b[0m\u001b[1;33m[\u001b[0m\u001b[1;34m'rest_name'\u001b[0m\u001b[1;33m]\u001b[0m \u001b[1;32min\u001b[0m \u001b[0mfinal_dict\u001b[0m\u001b[1;33m:\u001b[0m\u001b[1;33m\u001b[0m\u001b[0m\n\u001b[1;32m---> 17\u001b[1;33m             \u001b[0mfinal_dict\u001b[0m\u001b[1;33m[\u001b[0m\u001b[0mrow\u001b[0m\u001b[1;33m[\u001b[0m\u001b[1;34m'rest_name'\u001b[0m\u001b[1;33m]\u001b[0m\u001b[1;33m]\u001b[0m\u001b[1;33m.\u001b[0m\u001b[0mextend\u001b[0m\u001b[1;33m(\u001b[0m\u001b[0mrow\u001b[0m\u001b[1;33m[\u001b[0m\u001b[1;34m'review_rating'\u001b[0m\u001b[1;33m]\u001b[0m\u001b[1;33m,\u001b[0m \u001b[0mrow\u001b[0m\u001b[1;33m[\u001b[0m\u001b[1;34m'count'\u001b[0m\u001b[1;33m]\u001b[0m\u001b[1;33m)\u001b[0m\u001b[1;33m\u001b[0m\u001b[0m\n\u001b[0m\u001b[0;32m     18\u001b[0m         \u001b[1;32melse\u001b[0m\u001b[1;33m:\u001b[0m\u001b[1;33m\u001b[0m\u001b[0m\n\u001b[0;32m     19\u001b[0m             \u001b[0mfinal_dict\u001b[0m\u001b[1;33m[\u001b[0m\u001b[0mrow\u001b[0m\u001b[1;33m[\u001b[0m\u001b[1;34m'rest_name'\u001b[0m\u001b[1;33m]\u001b[0m\u001b[1;33m]\u001b[0m \u001b[1;33m=\u001b[0m \u001b[1;33m[\u001b[0m\u001b[0mrow\u001b[0m\u001b[1;33m[\u001b[0m\u001b[1;34m'review_rating'\u001b[0m\u001b[1;33m]\u001b[0m\u001b[1;33m,\u001b[0m \u001b[0mrow\u001b[0m\u001b[1;33m[\u001b[0m\u001b[1;34m'count'\u001b[0m\u001b[1;33m]\u001b[0m\u001b[1;33m]\u001b[0m \u001b[1;31m# append to list\u001b[0m\u001b[1;33m\u001b[0m\u001b[0m\n",
      "\u001b[1;31mTypeError\u001b[0m: extend() takes exactly one argument (2 given)"
     ]
    }
   ],
   "source": [
    "read_sentiments()"
   ]
  },
  {
   "cell_type": "code",
   "execution_count": null,
   "metadata": {
    "collapsed": true
   },
   "outputs": [],
   "source": []
  }
 ],
 "metadata": {
  "kernelspec": {
   "display_name": "Python 3",
   "language": "python",
   "name": "python3"
  },
  "language_info": {
   "codemirror_mode": {
    "name": "ipython",
    "version": 3
   },
   "file_extension": ".py",
   "mimetype": "text/x-python",
   "name": "python",
   "nbconvert_exporter": "python",
   "pygments_lexer": "ipython3",
   "version": "3.6.3"
  }
 },
 "nbformat": 4,
 "nbformat_minor": 2
}
